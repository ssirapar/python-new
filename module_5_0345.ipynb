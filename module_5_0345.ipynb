{
  "nbformat": 4,
  "nbformat_minor": 0,
  "metadata": {
    "colab": {
      "name": "module 5.0345",
      "provenance": [],
      "authorship_tag": "ABX9TyNbPF8a2C0oYOgJ10BCA7iA",
      "include_colab_link": true
    },
    "kernelspec": {
      "name": "python3",
      "display_name": "Python 3"
    },
    "language_info": {
      "name": "python"
    }
  },
  "cells": [
    {
      "cell_type": "markdown",
      "metadata": {
        "id": "view-in-github",
        "colab_type": "text"
      },
      "source": [
        "<a href=\"https://colab.research.google.com/github/ssirapar/python-new/blob/module-5/module_5_0345.ipynb\" target=\"_parent\"><img src=\"https://colab.research.google.com/assets/colab-badge.svg\" alt=\"Open In Colab\"/></a>"
      ]
    },
    {
      "cell_type": "code",
      "execution_count": 1,
      "metadata": {
        "colab": {
          "base_uri": "https://localhost:8080/"
        },
        "id": "iu4GiRnVstBN",
        "outputId": "6cd8a5ac-b446-4412-b3e0-7b67341c621c"
      },
      "outputs": [
        {
          "output_type": "stream",
          "name": "stdout",
          "text": [
            "YES! We have a match!\n"
          ]
        }
      ],
      "source": [
        "import re\n",
        " \n",
        "txt = \"peacock dances well\"\n",
        "x = re.search(\"^peacock.*dances\", txt)\n",
        "if x:\n",
        "  print(\"YES! We have a match!\")\n",
        "else:\n",
        "  print(\"No match\")"
      ]
    },
    {
      "cell_type": "code",
      "source": [
        "#The findall() function returns a list containing all matches.\n",
        "import re\n",
        "\n",
        "txt = \"Sets are used to store multiple items in a single variable. \"\n",
        "\n",
        "x = re.findall(\"or\", txt)\n",
        "y = re.findall(\"rabbit\", txt)\n",
        "print(x)\n",
        "print(y)"
      ],
      "metadata": {
        "colab": {
          "base_uri": "https://localhost:8080/"
        },
        "id": "j1gtGlWbuNXU",
        "outputId": "1b0c6085-c351-47dc-f92a-04d56ce0bfe7"
      },
      "execution_count": 2,
      "outputs": [
        {
          "output_type": "stream",
          "name": "stdout",
          "text": [
            "['or']\n",
            "[]\n"
          ]
        }
      ]
    },
    {
      "cell_type": "code",
      "source": [
        "#Split at each white-space character:\n",
        "\n",
        "import re\n",
        "\n",
        "txt = \"Sets are used to store multiple items in a single variable. \"\n",
        "x = re.split(\"\\s\", txt)\n",
        "print(x)"
      ],
      "metadata": {
        "colab": {
          "base_uri": "https://localhost:8080/"
        },
        "id": "vZctBmeiuOUN",
        "outputId": "8ecbb1ba-e71a-47fa-dddf-f608a1e792d5"
      },
      "execution_count": 3,
      "outputs": [
        {
          "output_type": "stream",
          "name": "stdout",
          "text": [
            "['Sets', 'are', 'used', 'to', 'store', 'multiple', 'items', 'in', 'a', 'single', 'variable.', '']\n"
          ]
        }
      ]
    },
    {
      "cell_type": "code",
      "source": [
        "#sub()\n",
        "import re\n",
        "\n",
        "txt = \"Sets are used to store multiple items in a single variable. \"\n",
        "x = re.sub(\"\\s\", \"9\", txt, 2)   #Replace only first 2 occurrences:\n",
        "print(x)"
      ],
      "metadata": {
        "colab": {
          "base_uri": "https://localhost:8080/"
        },
        "id": "WezQKKS0uSxl",
        "outputId": "cc03337f-cf50-4415-aa6d-9e263cf57da1"
      },
      "execution_count": 4,
      "outputs": [
        {
          "output_type": "stream",
          "name": "stdout",
          "text": [
            "Sets9are9used to store multiple items in a single variable. \n"
          ]
        }
      ]
    },
    {
      "cell_type": "code",
      "source": [
        "import re\n",
        "txt = \"Sets are used to store multiple items in a single variable\"\n",
        "# \\a Check if the string starts with \"The\":\n",
        "x = re.findall(\"\\ASets\", txt)\n",
        "print(x)\n",
        "if x:\n",
        "  print(\"Yes, there is a match!\")\n",
        "else:\n",
        "  print(\"No match\")\n"
      ],
      "metadata": {
        "colab": {
          "base_uri": "https://localhost:8080/"
        },
        "id": "pd8vaNsouWty",
        "outputId": "0960ebae-ad5d-4f4a-d4aa-87d204c359a5"
      },
      "execution_count": 5,
      "outputs": [
        {
          "output_type": "stream",
          "name": "stdout",
          "text": [
            "['Sets']\n",
            "Yes, there is a match!\n"
          ]
        }
      ]
    },
    {
      "cell_type": "code",
      "source": [
        "import re\n",
        "\n",
        "#The search() function returns a Match object:\n",
        "\n",
        "txt = \"The rain in Spain\"\n",
        "x = re.search(\"n\", txt)\n",
        "print(x)"
      ],
      "metadata": {
        "colab": {
          "base_uri": "https://localhost:8080/"
        },
        "id": "ELpQdmeWubK2",
        "outputId": "4c99c031-0564-400e-c174-355886a5f914"
      },
      "execution_count": 6,
      "outputs": [
        {
          "output_type": "stream",
          "name": "stdout",
          "text": [
            "<re.Match object; span=(7, 8), match='n'>\n"
          ]
        }
      ]
    },
    {
      "cell_type": "code",
      "source": [
        "import re\n",
        "\n",
        "#Search for an upper case \"S\" character in the beginning of a word, and print its position:\n",
        "\n",
        "txt = \"Sets are used to store multiple items in a single variable.\"\n",
        "x = re.search(r\"\\bS\\w+\", txt)\n",
        "print(x.span())"
      ],
      "metadata": {
        "colab": {
          "base_uri": "https://localhost:8080/"
        },
        "id": "kyBvk7ADueg0",
        "outputId": "769adead-c3f6-4f37-c402-e0caf9834fb4"
      },
      "execution_count": 7,
      "outputs": [
        {
          "output_type": "stream",
          "name": "stdout",
          "text": [
            "(0, 4)\n"
          ]
        }
      ]
    },
    {
      "cell_type": "code",
      "source": [
        "#Print the string passed into the function:\n",
        "import re\n",
        "\n",
        "txt = \"Sets are used to store multiple items in a single variable.\"\n",
        "x = re.search(r\"\\bS\\w+\", txt)\n",
        "print(x.string)"
      ],
      "metadata": {
        "colab": {
          "base_uri": "https://localhost:8080/"
        },
        "id": "42BSR6uSuiDr",
        "outputId": "d68859e4-71ce-4e4c-d6b5-d853aa221a77"
      },
      "execution_count": 8,
      "outputs": [
        {
          "output_type": "stream",
          "name": "stdout",
          "text": [
            "Sets are used to store multiple items in a single variable.\n"
          ]
        }
      ]
    },
    {
      "cell_type": "code",
      "source": [
        "import re\n",
        "\n",
        "txt = \"Sets are used to store multiple items in a single variable.\"\n",
        "\n",
        "#Check if \"ain\" is present at the beginning of a WORD:\n",
        "\n",
        "x = re.findall(r\"\\bain\", txt)\n",
        "\n",
        "print(x)\n",
        "\n",
        "if x:\n",
        "  print(\"Yes, there is at least one match!\")\n",
        "else:\n",
        "  print(\"No match\")"
      ],
      "metadata": {
        "colab": {
          "base_uri": "https://localhost:8080/"
        },
        "id": "cJLbCYS4ulsd",
        "outputId": "f5c1628c-28b4-4443-aaa8-a8e383d3c2c9"
      },
      "execution_count": 9,
      "outputs": [
        {
          "output_type": "stream",
          "name": "stdout",
          "text": [
            "[]\n",
            "No match\n"
          ]
        }
      ]
    },
    {
      "cell_type": "code",
      "source": [
        "import re\n",
        "\n",
        "txt = \"The rain in Spain\"\n",
        "\n",
        "#Check if \"ain\" is present at the end of a WORD:\n",
        "\n",
        "x = re.findall(r\"ain\\b\", txt)\n",
        "\n",
        "print(x)\n",
        "\n",
        "if x:\n",
        "  print(\"Yes, there is at least one match!\")\n",
        "else:\n",
        "  print(\"No match\")\n"
      ],
      "metadata": {
        "colab": {
          "base_uri": "https://localhost:8080/"
        },
        "id": "uUeijkVVupHI",
        "outputId": "370ee79f-c6f7-4df1-a0cc-8dda355eee50"
      },
      "execution_count": 10,
      "outputs": [
        {
          "output_type": "stream",
          "name": "stdout",
          "text": [
            "['ain', 'ain']\n",
            "Yes, there is at least one match!\n"
          ]
        }
      ]
    },
    {
      "cell_type": "code",
      "source": [
        "import re\n",
        "\n",
        "txt = \"Sets are used to store multiple items in a single variable.\"\n",
        "#Check if the string contains any digits (numbers from 0-9):\n",
        "x = re.findall(\"\\d\", txt)\n",
        "print(x)\n",
        "if x:\n",
        "  print(\"Yes, there is at least one match!\")\n",
        "else:\n",
        "  print(\"No match\")\n"
      ],
      "metadata": {
        "colab": {
          "base_uri": "https://localhost:8080/"
        },
        "id": "-_Qgx1yhutjB",
        "outputId": "440a37d5-62ef-460c-fe56-d9e623da7f92"
      },
      "execution_count": 11,
      "outputs": [
        {
          "output_type": "stream",
          "name": "stdout",
          "text": [
            "[]\n",
            "No match\n"
          ]
        }
      ]
    },
    {
      "cell_type": "code",
      "source": [
        "import re\n",
        "\n",
        "txt = \"Sets are used to store multiple items in a single variable\"\n",
        "\n",
        "#Return a match at every no-digit character:\n",
        "x = re.findall(\"\\D\", txt)\n",
        "print(x)\n",
        "if x:\n",
        "  print(\"Yes, there is at least one match!\")\n",
        "else:\n",
        "  print(\"No match\")"
      ],
      "metadata": {
        "colab": {
          "base_uri": "https://localhost:8080/"
        },
        "id": "cev0zHG_uxCh",
        "outputId": "31acb199-4bd1-4c9f-b76a-689d7552bf95"
      },
      "execution_count": 12,
      "outputs": [
        {
          "output_type": "stream",
          "name": "stdout",
          "text": [
            "['S', 'e', 't', 's', ' ', 'a', 'r', 'e', ' ', 'u', 's', 'e', 'd', ' ', 't', 'o', ' ', 's', 't', 'o', 'r', 'e', ' ', 'm', 'u', 'l', 't', 'i', 'p', 'l', 'e', ' ', 'i', 't', 'e', 'm', 's', ' ', 'i', 'n', ' ', 'a', ' ', 's', 'i', 'n', 'g', 'l', 'e', ' ', 'v', 'a', 'r', 'i', 'a', 'b', 'l', 'e']\n",
            "Yes, there is at least one match!\n"
          ]
        }
      ]
    },
    {
      "cell_type": "code",
      "source": [
        "import re\n",
        "\n",
        "txt = \"Sets are used to store multiple items in a single variable\"\n",
        "#Return a match at every white-space character:\n",
        "x = re.findall(\"\\s\", txt)\n",
        "print(x)\n",
        "if x:\n",
        "  print(\"Yes, there is at least one match!\")\n",
        "else:\n",
        "  print(\"No match\")\n"
      ],
      "metadata": {
        "colab": {
          "base_uri": "https://localhost:8080/"
        },
        "id": "8Mue28Oiu0ll",
        "outputId": "dc0d171a-2911-4ff6-f7be-c30eee19d528"
      },
      "execution_count": 13,
      "outputs": [
        {
          "output_type": "stream",
          "name": "stdout",
          "text": [
            "[' ', ' ', ' ', ' ', ' ', ' ', ' ', ' ', ' ', ' ']\n",
            "Yes, there is at least one match!\n"
          ]
        }
      ]
    },
    {
      "cell_type": "code",
      "source": [
        "import re\n",
        "txt = \"sets are used to store multiple items in a single variable\"\n",
        "#Return a match at every NON white-space character:\n",
        "x = re.findall(\"\\S\", txt)\n",
        "print(x)\n",
        "if x:\n",
        "  print(\"Yes, there is at least one match!\")\n",
        "else:\n",
        "  print(\"No match\")\n"
      ],
      "metadata": {
        "colab": {
          "base_uri": "https://localhost:8080/"
        },
        "id": "K9IyxEPNu39e",
        "outputId": "9b2be706-af24-4203-f3fa-6b53db70ef28"
      },
      "execution_count": 14,
      "outputs": [
        {
          "output_type": "stream",
          "name": "stdout",
          "text": [
            "['s', 'e', 't', 's', 'a', 'r', 'e', 'u', 's', 'e', 'd', 't', 'o', 's', 't', 'o', 'r', 'e', 'm', 'u', 'l', 't', 'i', 'p', 'l', 'e', 'i', 't', 'e', 'm', 's', 'i', 'n', 'a', 's', 'i', 'n', 'g', 'l', 'e', 'v', 'a', 'r', 'i', 'a', 'b', 'l', 'e']\n",
            "Yes, there is at least one match!\n"
          ]
        }
      ]
    },
    {
      "cell_type": "code",
      "source": [
        "import re\n",
        "txt = \"sets are used to store multiple items in a single variable\"\n",
        "#Return a match at every word character (characters from a to Z, digits from 0-9, and the underscore _ character):\n",
        "x = re.findall(\"\\w\", txt)\n",
        "print(x)\n",
        "if x:\n",
        "  print(\"Yes, there is at least one match!\")\n",
        "else:\n",
        "  print(\"No match\")\n"
      ],
      "metadata": {
        "colab": {
          "base_uri": "https://localhost:8080/"
        },
        "id": "Lw94TBG8u7d6",
        "outputId": "eb95f5fc-d415-4a08-a1a3-7936788b7a17"
      },
      "execution_count": 15,
      "outputs": [
        {
          "output_type": "stream",
          "name": "stdout",
          "text": [
            "['s', 'e', 't', 's', 'a', 'r', 'e', 'u', 's', 'e', 'd', 't', 'o', 's', 't', 'o', 'r', 'e', 'm', 'u', 'l', 't', 'i', 'p', 'l', 'e', 'i', 't', 'e', 'm', 's', 'i', 'n', 'a', 's', 'i', 'n', 'g', 'l', 'e', 'v', 'a', 'r', 'i', 'a', 'b', 'l', 'e']\n",
            "Yes, there is at least one match!\n"
          ]
        }
      ]
    },
    {
      "cell_type": "code",
      "source": [
        "import re\n",
        "txt = \"sets are used to store multiple items in a single variable\"\n",
        "#Return a match at every NON word character (characters NOT between a and Z. Like \"!\", \"?\" white-space etc.):\n",
        "x = re.findall(\"\\W\", txt)\n",
        "print(x)\n",
        "if x:\n",
        "  print(\"Yes, there is at least one match!\")\n",
        "else:\n",
        "  print(\"No match\")\n"
      ],
      "metadata": {
        "colab": {
          "base_uri": "https://localhost:8080/"
        },
        "id": "JpPHROOhu-kG",
        "outputId": "e1c89920-1738-4a85-90b6-3ac1a0ee77af"
      },
      "execution_count": 16,
      "outputs": [
        {
          "output_type": "stream",
          "name": "stdout",
          "text": [
            "[' ', ' ', ' ', ' ', ' ', ' ', ' ', ' ', ' ', ' ']\n",
            "Yes, there is at least one match!\n"
          ]
        }
      ]
    },
    {
      "cell_type": "code",
      "source": [
        "# Findall function [0-9]\n",
        "import re\n",
        "text = \"10 times before 11:45 AM and cgpa is 10\"\n",
        "x = re.findall(\"[0-9]\",text)\n",
        "print(x)\n"
      ],
      "metadata": {
        "colab": {
          "base_uri": "https://localhost:8080/"
        },
        "id": "hvSzfkE8vByt",
        "outputId": "7c435c29-a4e0-4e41-e84f-2ec86e2c3ed0"
      },
      "execution_count": 21,
      "outputs": [
        {
          "output_type": "stream",
          "name": "stdout",
          "text": [
            "['1', '0', '1', '1', '4', '5', '1', '0']\n"
          ]
        }
      ]
    },
    {
      "cell_type": "code",
      "source": [
        "# Findall function [0-9]\n",
        "import re\n",
        "text = \"10 times before 11:45 AM and cgpa is 10\"\n",
        "x = re.findall(\"[0-5][0-9]\",text)\n",
        "print(x)\n"
      ],
      "metadata": {
        "colab": {
          "base_uri": "https://localhost:8080/"
        },
        "id": "zOA9z8thvK5-",
        "outputId": "6acd141b-b329-4a6b-c1af-0e3996a792f7"
      },
      "execution_count": 22,
      "outputs": [
        {
          "output_type": "stream",
          "name": "stdout",
          "text": [
            "['10', '11', '45', '10']\n"
          ]
        }
      ]
    },
    {
      "cell_type": "code",
      "source": [
        "# Findall Zero or more occurrences\n",
        "import re\n",
        "text = \"Hello World! This is chitti, The robo boy\"\n",
        "x = re.findall(\"he.*o\",text)\n",
        "print(x)"
      ],
      "metadata": {
        "colab": {
          "base_uri": "https://localhost:8080/"
        },
        "id": "EmMB8hJevP0d",
        "outputId": "7a2bfd9b-e3d7-474b-8874-32d8eefb30cc"
      },
      "execution_count": 20,
      "outputs": [
        {
          "output_type": "stream",
          "name": "stdout",
          "text": [
            "['he robo bo']\n"
          ]
        }
      ]
    },
    {
      "cell_type": "code",
      "source": [
        "# Findall Zero or one occurrences\n",
        "import re\n",
        "text = \"Hello World! This is chitti, The robo boy\"\n",
        "x = re.findall(\"he.?o\",text)\n",
        "print(x)"
      ],
      "metadata": {
        "colab": {
          "base_uri": "https://localhost:8080/"
        },
        "id": "oVtE6WRsvZro",
        "outputId": "4e65b29c-f829-456c-a654-9b1fd3ed138a"
      },
      "execution_count": 23,
      "outputs": [
        {
          "output_type": "stream",
          "name": "stdout",
          "text": [
            "[]\n"
          ]
        }
      ]
    },
    {
      "cell_type": "code",
      "source": [
        "# Findall Either or\n",
        "import re\n",
        "text = \"Hello World! This is chitti, The robo boy\"\n",
        "x = re.findall(\"falls|stays\",text)\n",
        "print(x)\n",
        "if x:\n",
        " print(\"Yes, the players will win the game!\")\n",
        "else:\n",
        " print(\"No game!\")"
      ],
      "metadata": {
        "colab": {
          "base_uri": "https://localhost:8080/"
        },
        "id": "OIYQM9qOvq13",
        "outputId": "0ba74339-844d-4f20-d458-5d4009add312"
      },
      "execution_count": 24,
      "outputs": [
        {
          "output_type": "stream",
          "name": "stdout",
          "text": [
            "[]\n",
            "No game!\n"
          ]
        }
      ]
    },
    {
      "cell_type": "code",
      "source": [
        "# Findall Either or\n",
        "import re\n",
        "text = \"Hello World! This is chitti, The robo boy who falls every time due to not functioning properly\"\n",
        "x = re.findall(\"falls|stays\",text)\n",
        "print(x)\n",
        "if x:\n",
        " print(\"Yes, the players will win the game!\")\n",
        "else:\n",
        " print(\"No game!\")"
      ],
      "metadata": {
        "colab": {
          "base_uri": "https://localhost:8080/"
        },
        "id": "ORDBmZgRvv1f",
        "outputId": "47ae0855-518f-4b09-e169-71dc76c58e27"
      },
      "execution_count": 26,
      "outputs": [
        {
          "output_type": "stream",
          "name": "stdout",
          "text": [
            "['falls']\n",
            "Yes, the players will win the game!\n"
          ]
        }
      ]
    },
    {
      "cell_type": "code",
      "source": [
        "# SPECIAL SEQUENCES\n",
        "# Returns a match if the specified characters are at the beginning of the string\n",
        "import re\n",
        "txt = \"There was a thunderstorm in Vizag\"\n",
        "#Check if the string starts with \"The\":\n",
        "x = re.findall(\"\\AThe\", txt)\n",
        "print(x)\n",
        "if x:\n",
        " print(\"Yes, there was a thunderstorm!\")\n",
        "else:\n",
        " print(\"No thunderstorm\")"
      ],
      "metadata": {
        "colab": {
          "base_uri": "https://localhost:8080/"
        },
        "id": "GIAU3Cfcvzmw",
        "outputId": "7df0bea6-3c68-47e8-c9dc-5a17c0410fa6"
      },
      "execution_count": 28,
      "outputs": [
        {
          "output_type": "stream",
          "name": "stdout",
          "text": [
            "['The']\n",
            "Yes, there was a thunderstorm!\n"
          ]
        }
      ]
    },
    {
      "cell_type": "code",
      "source": [
        "# Returns a match where the specified characters are at the beginning or at the end of a word\n",
        "import re\n",
        "txt =\"There was a thunderstorm in Vizag\"\n",
        "#Check if \"ain\" is present at the beginning of a WORD:\n",
        "x = re.findall(r\"\\bain\", txt)\n",
        "print(x)\n",
        "if x:\n",
        " print(\"Yes, there was a thunderstorm!\")\n",
        "else:\n",
        " print(\"No thunderstorm\")"
      ],
      "metadata": {
        "colab": {
          "base_uri": "https://localhost:8080/"
        },
        "id": "HYFgVPfRv86j",
        "outputId": "65dec662-d68c-48ea-f6c5-1436ef9157db"
      },
      "execution_count": 29,
      "outputs": [
        {
          "output_type": "stream",
          "name": "stdout",
          "text": [
            "[]\n",
            "No thunderstorm\n"
          ]
        }
      ]
    },
    {
      "cell_type": "code",
      "source": [
        "# Returns a match where the specified characters are at the beginning or at the end of a word\n",
        "import re\n",
        "txt =\"There was a thunderstorm in Vizag\"\n",
        "#Check if \"nder\" is present at the end of a WORD:\n",
        "x = re.findall(u\"nder\\b\", txt)\n",
        "print(x)\n",
        "if x:\n",
        " print(\"Yes, there was a thunderstorm!\")\n",
        "else:\n",
        " print(\"No thunderstorm\")"
      ],
      "metadata": {
        "colab": {
          "base_uri": "https://localhost:8080/"
        },
        "id": "nGDD-cqJweyU",
        "outputId": "66f6d03d-f549-4330-8a83-aa340054832d"
      },
      "execution_count": 30,
      "outputs": [
        {
          "output_type": "stream",
          "name": "stdout",
          "text": [
            "[]\n",
            "No thunderstorm\n"
          ]
        }
      ]
    },
    {
      "cell_type": "code",
      "source": [
        "# Returns a match where the string contains digits (numbers from 0-9)\n",
        "import re\n",
        "txt =\"There was a thunderstorm in Vizag\"\n",
        "#Check if \"nder\" is present at the end of a WORD:\n",
        "x = re.findall(\"\\d\", txt)\n",
        "print(x)\n",
        "if x:\n",
        " print(\"Yes, there was a thunderstorm!\")\n",
        "else:\n",
        " print(\"No thunderstorm\")"
      ],
      "metadata": {
        "colab": {
          "base_uri": "https://localhost:8080/"
        },
        "id": "rGKcOecawkGs",
        "outputId": "a371b7bb-f57d-47a7-c853-e3270d765523"
      },
      "execution_count": 31,
      "outputs": [
        {
          "output_type": "stream",
          "name": "stdout",
          "text": [
            "[]\n",
            "No thunderstorm\n"
          ]
        }
      ]
    },
    {
      "cell_type": "code",
      "source": [
        "# Returns a match where the string DOES NOT contain digits\n",
        "import re\n",
        "txt =\"There was a thunderstorm in Vizag\"\n",
        "#Check if \"nder\" is present at the end of a WORD:\n",
        "x = re.findall(\"\\D\", txt)\n",
        "print(x)\n",
        "if x:\n",
        " print(\"Yes, there was a thunderstorm!\")\n",
        "else:\n",
        " print(\"No thunderstorm\")"
      ],
      "metadata": {
        "colab": {
          "base_uri": "https://localhost:8080/"
        },
        "id": "bEkCixpKwqTP",
        "outputId": "16bfede8-df4d-4fa3-dade-b0995a071634"
      },
      "execution_count": 32,
      "outputs": [
        {
          "output_type": "stream",
          "name": "stdout",
          "text": [
            "['T', 'h', 'e', 'r', 'e', ' ', 'w', 'a', 's', ' ', 'a', ' ', 't', 'h', 'u', 'n', 'd', 'e', 'r', 's', 't', 'o', 'r', 'm', ' ', 'i', 'n', ' ', 'V', 'i', 'z', 'a', 'g']\n",
            "Yes, there was a thunderstorm!\n"
          ]
        }
      ]
    },
    {
      "cell_type": "code",
      "source": [
        "# Returns a match where the string contains any word characters \n",
        "#(characters from a to Z, digits from 0-9, and the underscore _ character)\n",
        "import re\n",
        "txt =\"There was a thunderstorm in Vizag\"\n",
        "#Check if \"nder\" is present at the end of a WORD:\n",
        "x = re.findall(\"\\w\", txt)\n",
        "print(x)\n",
        "if x:\n",
        " print(\"Yes, there was a thunderstorm!\")\n",
        "else:\n",
        " print(\"No thunderstorm\")"
      ],
      "metadata": {
        "colab": {
          "base_uri": "https://localhost:8080/"
        },
        "id": "Ri7MIlI3xL_Z",
        "outputId": "016aab08-a69e-404b-8dd6-7839e70dada4"
      },
      "execution_count": 33,
      "outputs": [
        {
          "output_type": "stream",
          "name": "stdout",
          "text": [
            "['T', 'h', 'e', 'r', 'e', 'w', 'a', 's', 'a', 't', 'h', 'u', 'n', 'd', 'e', 'r', 's', 't', 'o', 'r', 'm', 'i', 'n', 'V', 'i', 'z', 'a', 'g']\n",
            "Yes, there was a thunderstorm!\n"
          ]
        }
      ]
    },
    {
      "cell_type": "code",
      "source": [
        "\n",
        "# Returns a match where the string DOES NOT contain any word characters\n",
        "import re\n",
        "txt =\"There was a thunderstorm in Vizag\"\n",
        "#Check if \"nder\" is present at the end of a WORD:\n",
        "x = re.findall(\"\\W\", txt)\n",
        "print(x)\n",
        "if x:\n",
        " print(\"Yes, there was a thunderstorm!\")\n",
        "else:\n",
        " print(\"No thunderstorm\")"
      ],
      "metadata": {
        "colab": {
          "base_uri": "https://localhost:8080/"
        },
        "id": "MCr3hjBbxdTN",
        "outputId": "74aad108-7d7c-4f00-c302-efa3bbb7347f"
      },
      "execution_count": 34,
      "outputs": [
        {
          "output_type": "stream",
          "name": "stdout",
          "text": [
            "[' ', ' ', ' ', ' ', ' ']\n",
            "Yes, there was a thunderstorm!\n"
          ]
        }
      ]
    },
    {
      "cell_type": "code",
      "source": [
        "# Print the position (start- and end-position) of the first match occurrence.\n",
        "import re\n",
        "text = \"The rain in Spain\"\n",
        "x = re.search(r\"\\bS\\w+\", text)\n",
        "print(x.span())"
      ],
      "metadata": {
        "colab": {
          "base_uri": "https://localhost:8080/"
        },
        "id": "MmWu_O50xlDj",
        "outputId": "48bc2dba-23bc-47a1-dfe9-82130e38dfbe"
      },
      "execution_count": 35,
      "outputs": [
        {
          "output_type": "stream",
          "name": "stdout",
          "text": [
            "(12, 17)\n"
          ]
        }
      ]
    },
    {
      "cell_type": "code",
      "source": [
        "# Write a Python program to check that a string contains only a \n",
        "#certain set of characters (in this case a-z, A-Z and 0-9)\n",
        "import re\n",
        "def specific_char(a):\n",
        " charRe = re.compile(r'[^a-zA-Z0-9]')\n",
        " a = charRe.search(a)\n",
        " return not bool(a)\n",
        "print(specific_char(\"ABCDEFabcdef123450\")) \n",
        "print(specific_char(\"*&%(}:<>\"))"
      ],
      "metadata": {
        "colab": {
          "base_uri": "https://localhost:8080/"
        },
        "id": "NJ51P0yYxsA0",
        "outputId": "de01a657-b0bb-41e5-b4f4-82180b1a2db4"
      },
      "execution_count": 36,
      "outputs": [
        {
          "output_type": "stream",
          "name": "stdout",
          "text": [
            "True\n",
            "False\n"
          ]
        }
      ]
    },
    {
      "cell_type": "code",
      "source": [
        "# Write a Python program that matches a string that has an a followed \n",
        "#by zero or more b's\n",
        "import re\n",
        "def text_match(text):\n",
        " if re.search('^a(b*)$', text):\n",
        "  return 'Found a match'\n",
        " else:\n",
        "  return 'Not matched'\n",
        "print(text_match(\"abbbbbbc\"))\n",
        "print(text_match(\"abcbb\"))\n",
        "print(text_match(\"a\"))\n",
        "print(text_match(\"ab\"))\n",
        "print(text_match(\"abbbbbb\"))"
      ],
      "metadata": {
        "colab": {
          "base_uri": "https://localhost:8080/"
        },
        "id": "cQa2JnTnx6TW",
        "outputId": "b595792f-1690-4dd4-f8a3-094983868146"
      },
      "execution_count": 37,
      "outputs": [
        {
          "output_type": "stream",
          "name": "stdout",
          "text": [
            "Not matched\n",
            "Not matched\n",
            "Found a match\n",
            "Found a match\n",
            "Found a match\n"
          ]
        }
      ]
    },
    {
      "cell_type": "code",
      "source": [
        "# Write a Python program that matches a string that has an a followed by one or more b's\n",
        "import re\n",
        "def text_match(text): \n",
        " if re.search('ab+', text):\n",
        "  return 'Found a match'\n",
        " else:\n",
        "  return 'Not matched'\n",
        "print(text_match(\"a\"))\n",
        "print(text_match(\"abbbbc\"))"
      ],
      "metadata": {
        "colab": {
          "base_uri": "https://localhost:8080/"
        },
        "id": "z6RiUI1LyLIh",
        "outputId": "5ffa1640-61b6-4034-fc45-2ddcf8ec599d"
      },
      "execution_count": 38,
      "outputs": [
        {
          "output_type": "stream",
          "name": "stdout",
          "text": [
            "Not matched\n",
            "Found a match\n"
          ]
        }
      ]
    },
    {
      "cell_type": "code",
      "source": [
        "# Write a Python program that matches a string that has an a followed by zero or one 'b'\n",
        "import re\n",
        "def text_match(text): \n",
        " if re.search('ab?', text):\n",
        "  return 'Found a match'\n",
        " else:\n",
        "  return 'Not matched'\n",
        "print(text_match(\"a\"))\n",
        "print(text_match(\"abbbbc\"))\n",
        "print(text_match(\"abc\"))"
      ],
      "metadata": {
        "colab": {
          "base_uri": "https://localhost:8080/"
        },
        "id": "BnfkTxaxyaPR",
        "outputId": "df858554-254a-4c33-b3d2-fc268eb691f2"
      },
      "execution_count": 39,
      "outputs": [
        {
          "output_type": "stream",
          "name": "stdout",
          "text": [
            "Found a match\n",
            "Found a match\n",
            "Found a match\n"
          ]
        }
      ]
    },
    {
      "cell_type": "code",
      "source": [
        "# Write a Python program that matches a string that has an a followed by three 'b'\n",
        "import re\n",
        "def text_match(text):\n",
        " patterns = 'ab{3}?'\n",
        " if re.search(patterns, text):\n",
        "  return 'Found a match'\n",
        " else:\n",
        "  return 'Not matched'\n",
        "print(text_match(\"abbb\"))\n",
        "print(text_match(\"aabbc\"))"
      ],
      "metadata": {
        "colab": {
          "base_uri": "https://localhost:8080/"
        },
        "id": "DdhYM5CvzD-e",
        "outputId": "3bde0c02-6484-48ed-f9f9-fd2381db73a9"
      },
      "execution_count": 40,
      "outputs": [
        {
          "output_type": "stream",
          "name": "stdout",
          "text": [
            "Found a match\n",
            "Not matched\n"
          ]
        }
      ]
    },
    {
      "cell_type": "code",
      "source": [
        "import re\n",
        "def text_match(text): \n",
        " if re.search('^[a-z]+_[a-z]+$', text):\n",
        "  return 'Found a match'\n",
        " else:\n",
        "  return 'Not matched'\n",
        "print(text_match(\"aab_cbbbc\"))\n",
        "print(text_match(\"aab_Abbbc\"))\n",
        "print(text_match(\"Aaab_abbbc\"))\n",
        "print(text_match(\"azxdseab_abbcdefgxz\"))"
      ],
      "metadata": {
        "colab": {
          "base_uri": "https://localhost:8080/"
        },
        "id": "vDSaQRcWzIIs",
        "outputId": "255c37a6-a4fe-43f8-98d2-21a40ef4c82d"
      },
      "execution_count": 41,
      "outputs": [
        {
          "output_type": "stream",
          "name": "stdout",
          "text": [
            "Found a match\n",
            "Not matched\n",
            "Not matched\n",
            "Found a match\n"
          ]
        }
      ]
    },
    {
      "cell_type": "code",
      "source": [
        ""
      ],
      "metadata": {
        "id": "f_yo1yTRzQEk"
      },
      "execution_count": null,
      "outputs": []
    }
  ]
}